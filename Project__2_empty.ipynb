{
  "nbformat": 4,
  "nbformat_minor": 0,
  "metadata": {
    "colab": {
      "provenance": [],
      "toc_visible": true
    },
    "kernelspec": {
      "name": "python3",
      "display_name": "Python 3"
    },
    "accelerator": "GPU"
  },
  "cells": [
    {
      "cell_type": "markdown",
      "metadata": {
        "id": "MV4osAJhnrTv"
      },
      "source": [
        "## Definitions"
      ]
    },
    {
      "cell_type": "code",
      "metadata": {
        "id": "6Gqh8kPlgiFJ",
        "colab": {
          "base_uri": "https://localhost:8080/"
        },
        "outputId": "ff0a2596-78c3-43fb-bfac-5beddc8e00d1"
      },
      "source": [
        "%matplotlib inline\n",
        "import os\n",
        "import numpy as np\n",
        "import pickle\n",
        "import matplotlib.pyplot as plt\n",
        "\n",
        "from tensorflow.keras.utils import to_categorical\n",
        "from tensorflow.keras.callbacks import ReduceLROnPlateau, ModelCheckpoint, EarlyStopping\n",
        "from tensorflow.keras.optimizers import Adadelta, Adam, SGD\n",
        "from tensorflow.keras.layers import Input, Conv2D, Dense, MaxPooling2D, Dropout, Flatten, AveragePooling2D, Conv2DTranspose, UpSampling2D, Rescaling\n",
        "from tensorflow.keras.models import Sequential\n",
        "from tensorflow.keras.losses import categorical_crossentropy\n",
        "\n",
        "from google.colab import drive\n",
        "drive.mount(\"/content/gdrive\", force_remount=True)\n",
        "os.chdir(\"/content/gdrive/My Drive/Colab Notebooks\") # might have to change path to point to your Colab Notebooks folder"
      ],
      "execution_count": null,
      "outputs": [
        {
          "output_type": "stream",
          "name": "stdout",
          "text": [
            "Mounted at /content/gdrive\n"
          ]
        }
      ]
    },
    {
      "cell_type": "markdown",
      "metadata": {
        "id": "-eJJXcB1n2kn"
      },
      "source": [
        "## Load and format data"
      ]
    },
    {
      "cell_type": "code",
      "metadata": {
        "id": "FgjqOlNDE3tJ",
        "colab": {
          "base_uri": "https://localhost:8080/",
          "height": 387
        },
        "outputId": "453e5ca7-5594-4d30-b5fa-5734f20e39b5"
      },
      "source": [
        "data = np.load('./MNIST_CorrNoise.npz')\n",
        "\n",
        "x_train = data['x_train']\n",
        "y_train = data['y_train']\n",
        "\n",
        "num_cls = len(np.unique(y_train))\n",
        "print('Number of classes: ' + str(num_cls))\n",
        "\n",
        "print('Example of handwritten digit with correlated noise: \\n')\n",
        "\n",
        "k = 3000\n",
        "plt.imshow(np.squeeze(x_train[k,:,:]))\n",
        "plt.show()\n",
        "print('Class: '+str(y_train[k])+'\\n')\n",
        "\n",
        "# RESHAPE and standarize\n",
        "x_train = np.expand_dims(x_train/255,axis=3)\n",
        "\n",
        "# convert class vectors to binary class matrices\n",
        "y_train = to_categorical(y_train, num_cls)\n",
        "\n",
        "print('Shape of x_train: '+str(x_train.shape))\n",
        "print('Shape of y_train: '+str(y_train.shape))"
      ],
      "execution_count": null,
      "outputs": [
        {
          "output_type": "stream",
          "name": "stdout",
          "text": [
            "Number of classes: 10\n",
            "Example of handwritten digit with correlated noise: \n",
            "\n"
          ]
        },
        {
          "output_type": "display_data",
          "data": {
            "image/png": "[encoded data removed]",
            "text/plain": [
              "<Figure size 432x288 with 1 Axes>"
            ]
          },
          "metadata": {
            "needs_background": "light"
          }
        },
        {
          "output_type": "stream",
          "name": "stdout",
          "text": [
            "Class: 9\n",
            "\n",
            "Shape of x_train: (60000, 28, 28, 1)\n",
            "Shape of y_train: (60000, 10)\n"
          ]
        }
      ]
    },
    {
      "cell_type": "markdown",
      "metadata": {
        "id": "YFPhNWgloVIh"
      },
      "source": [
        "## Training"
      ]
    },
    {
      "cell_type": "code",
      "metadata": {
        "id": "sAE8wRG_pypQ"
      },
      "source": [
        "model_name='CNN' # To compare models, you can give them different names\n",
        "\n",
        "pweight='./weights/weights_' + model_name  + '.hdf5'\n",
        "\n",
        "if not os.path.exists('./weights'):\n",
        "  os.mkdir('./weights')\n",
        "\n",
        "## EXPLORE VALUES AND FIND A GOOD SET\n",
        "b_size = 200 # batch size\n",
        "val_split = 0.75 # percentage of samples used for validation (e.g. 0.5)\n",
        "ep = 20 # number of epochs"
      ],
      "execution_count": null,
      "outputs": []
    },
    {
      "cell_type": "code",
      "metadata": {
        "id": "p2Ii3Irf3F0R",
        "colab": {
          "base_uri": "https://localhost:8080/",
          "height": 1000
        },
        "outputId": "8b08dbb0-61fe-4483-8bf9-545c3bede3d4"
      },
      "source": [
        "input_shape = x_train.shape[1:4] #(28,28,1)\n",
        "#  Sequential()\n",
        "# from tensorflow.keras.layers import Input, Conv2D, Dense, MaxPooling2D, Dropout, Flatten, AveragePooling2D, Conv2DTranspose, UpSampling2D, Rescaling\n",
        "import  tensorflow.keras.layers as layers\n",
        "# second model -- start\n",
        "model =Sequential([\n",
        "  layers.Normalization(input_shape=input_shape),\n",
        "  layers.Conv2D(16, 3, padding='same', activation='relu'),\n",
        "  layers.MaxPooling2D(pool_size=(2,2), strides=(2,2),padding='same',),\n",
        "  layers.Conv2D(128, 3, padding='same', activation='relu'),\n",
        "  layers.MaxPooling2D(pool_size=(2,2), strides=(2,2),padding='same',),\n",
        "  # layers.Conv2D(128, 3, padding='same', activation='relu'),\n",
        "  # layers.MaxPooling2D(pool_size=(2,2), strides=(2,2),padding='same',),\n",
        "  layers.Flatten(),\n",
        "  layers.Dense(1024, activation='relu'),\n",
        "  layers.Dropout(0.5),\n",
        "  layers.Dense(num_cls, activation='softmax')\n",
        "])\n",
        "# -- sencond model -- end\n",
        "\n",
        "## EXPLORE LAYERS, # CHANNELS... Conv2D, Dense, MaxPooling2D, Dropout, Flatten, AveragePooling2D, Conv2DTranspose, UpSampling2D\n",
        "## SEE KERAS MANUAL https://keras.io/layers/about-keras-layers/\n",
        "\n",
        "# -- first model -- start\n",
        "# model.add(Conv2D(1, kernel_size=(3, 3), activation='relu', input_shape=input_shape)) # explore num channels and adding more layers\n",
        "\n",
        "# model.add(MaxPooling2D(\n",
        "#     pool_size=(2,2),  # The  down-sampling lattice is 2*2\n",
        "#     strides=(2,2),  # Step length: down to the right\n",
        "#     padding='same', # padding mode is 'same'\n",
        "# ))\n",
        "\n",
        "# model.add(Conv2D(64, (5, 5), padding='same',activation='relu'))\n",
        "# # model.add(Dropout(0.5))\n",
        "# model.add(MaxPooling2D(strides=(2, 2), padding='same'))\n",
        "\n",
        "# # Make multidimensional inputs one-dimensional\n",
        "# model.add(Flatten()) # transforms matrix feature map to vector for dense layer (fully connected)\n",
        "# ##\n",
        "# model.add(Dense(1024,activation='relu'))  # Full connection layer 1024 points\n",
        "# model.add(Dropout(0.5))\n",
        "# model.add(Dense(num_cls, activation='softmax')) # This is a necessary output layer, however, you can add more dense layers before with different activation functions\n",
        "# -- first model -- end\n",
        "lr = 0.001\n",
        "model.compile(loss=categorical_crossentropy,\n",
        "              optimizer=Adam(learning_rate=lr), # explore other optimizers:Adadelta, Adam, SGD\n",
        "              metrics=['accuracy'])\n",
        "model.summary()\n",
        "\n",
        "checkpointer = ModelCheckpoint(filepath=pweight, verbose=1, save_best_only=True)\n",
        "callbacks_list = [checkpointer] # explore adding other callbacks such as ReduceLROnPlateau, EarlyStopping\n",
        "\n",
        "history=model.fit(x_train, y_train,\n",
        "                        epochs=ep,\n",
        "                        batch_size=b_size,\n",
        "                        verbose=1,\n",
        "                        shuffle=True,\n",
        "                        validation_split = val_split,\n",
        "                        callbacks=callbacks_list)\n",
        "\n",
        "print('CNN weights saved in ' + pweight)\n",
        "\n",
        "# Plot loss vs epochs\n",
        "plt.plot(history.history['loss'])\n",
        "plt.plot(history.history['val_loss'])\n",
        "plt.title('model loss')\n",
        "plt.ylabel('loss')\n",
        "plt.xlabel('epoch')\n",
        "plt.legend(['train', 'val'], loc='upper right')\n",
        "plt.show()\n",
        "\n",
        "# for i in history.history:\n",
        "#   print(i)\n",
        "\n",
        "# Plot accuracy vs epochs\n",
        "plt.plot(history.history['accuracy'])\n",
        "plt.plot(history.history['val_accuracy'])\n",
        "plt.title('model accuracy')\n",
        "plt.ylabel('accuracy')\n",
        "plt.xlabel('epoch')\n",
        "plt.legend(['train', 'val'], loc='upper left')\n",
        "plt.show()"
      ],
      "execution_count": null,
      "outputs": [
        {
          "output_type": "stream",
          "name": "stdout",
          "text": [
            "Model: \"sequential_18\"\n",
            "_________________________________________________________________\n",
            " Layer (type)                Output Shape              Param #   \n",
            "=================================================================\n",
            " normalization_5 (Normalizat  (None, 28, 28, 1)        3         \n",
            " ion)                                                            \n",
            "                                                                 \n",
            " conv2d_40 (Conv2D)          (None, 28, 28, 16)        160       \n",
            "                                                                 \n",
            " max_pooling2d_40 (MaxPoolin  (None, 14, 14, 16)       0         \n",
            " g2D)                                                            \n",
            "                                                                 \n",
            " conv2d_41 (Conv2D)          (None, 14, 14, 128)       18560     \n",
            "                                                                 \n",
            " max_pooling2d_41 (MaxPoolin  (None, 7, 7, 128)        0         \n",
            " g2D)                                                            \n",
            "                                                                 \n",
            " flatten_18 (Flatten)        (None, 6272)              0         \n",
            "                                                                 \n",
            " dense_36 (Dense)            (None, 1024)              6423552   \n",
            "                                                                 \n",
            " dropout_10 (Dropout)        (None, 1024)              0         \n",
            "                                                                 \n",
            " dense_37 (Dense)            (None, 10)                10250     \n",
            "                                                                 \n",
            "=================================================================\n",
            "Total params: 6,452,525\n",
            "Trainable params: 6,452,522\n",
            "Non-trainable params: 3\n",
            "_________________________________________________________________\n",
            "Epoch 1/20\n",
            "74/75 [============================>.] - ETA: 0s - loss: 2.1804 - accuracy: 0.2272\n",
            "Epoch 00001: val_loss improved from inf to 1.62957, saving model to ./weights/weights_CNN.hdf5\n",
            "75/75 [==============================] - 61s 72ms/step - loss: 2.1726 - accuracy: 0.2303 - val_loss: 1.6296 - val_accuracy: 0.4587\n",
            "Epoch 2/20\n",
            "73/75 [============================>.] - ETA: 0s - loss: 1.3910 - accuracy: 0.5188\n",
            "Epoch 00002: val_loss improved from 1.62957 to 1.07248, saving model to ./weights/weights_CNN.hdf5\n",
            "75/75 [==============================] - 4s 58ms/step - loss: 1.3861 - accuracy: 0.5209 - val_loss: 1.0725 - val_accuracy: 0.6538\n",
            "Epoch 3/20\n",
            "73/75 [============================>.] - ETA: 0s - loss: 0.9380 - accuracy: 0.6879\n",
            "Epoch 00003: val_loss improved from 1.07248 to 0.79087, saving model to ./weights/weights_CNN.hdf5\n",
            "75/75 [==============================] - 4s 59ms/step - loss: 0.9348 - accuracy: 0.6890 - val_loss: 0.7909 - val_accuracy: 0.7372\n",
            "Epoch 4/20\n",
            "73/75 [============================>.] - ETA: 0s - loss: 0.7198 - accuracy: 0.7605\n",
            "Epoch 00004: val_loss improved from 0.79087 to 0.66278, saving model to ./weights/weights_CNN.hdf5\n",
            "75/75 [==============================] - 3s 44ms/step - loss: 0.7186 - accuracy: 0.7611 - val_loss: 0.6628 - val_accuracy: 0.7820\n",
            "Epoch 5/20\n",
            "75/75 [==============================] - ETA: 0s - loss: 0.5991 - accuracy: 0.7997\n",
            "Epoch 00005: val_loss improved from 0.66278 to 0.61667, saving model to ./weights/weights_CNN.hdf5\n",
            "75/75 [==============================] - 4s 59ms/step - loss: 0.5991 - accuracy: 0.7997 - val_loss: 0.6167 - val_accuracy: 0.7938\n",
            "Epoch 6/20\n",
            "73/75 [============================>.] - ETA: 0s - loss: 0.5181 - accuracy: 0.8321\n",
            "Epoch 00006: val_loss improved from 0.61667 to 0.56673, saving model to ./weights/weights_CNN.hdf5\n",
            "75/75 [==============================] - 3s 44ms/step - loss: 0.5173 - accuracy: 0.8322 - val_loss: 0.5667 - val_accuracy: 0.8109\n",
            "Epoch 7/20\n",
            "73/75 [============================>.] - ETA: 0s - loss: 0.4545 - accuracy: 0.8499\n",
            "Epoch 00007: val_loss improved from 0.56673 to 0.55205, saving model to ./weights/weights_CNN.hdf5\n",
            "75/75 [==============================] - 3s 43ms/step - loss: 0.4542 - accuracy: 0.8501 - val_loss: 0.5520 - val_accuracy: 0.8145\n",
            "Epoch 8/20\n",
            "73/75 [============================>.] - ETA: 0s - loss: 0.3951 - accuracy: 0.8675\n",
            "Epoch 00008: val_loss did not improve from 0.55205\n",
            "75/75 [==============================] - 3s 39ms/step - loss: 0.3929 - accuracy: 0.8681 - val_loss: 0.5635 - val_accuracy: 0.8139\n",
            "Epoch 9/20\n",
            "75/75 [==============================] - ETA: 0s - loss: 0.3466 - accuracy: 0.8853\n",
            "Epoch 00009: val_loss did not improve from 0.55205\n",
            "75/75 [==============================] - 4s 55ms/step - loss: 0.3466 - accuracy: 0.8853 - val_loss: 0.5544 - val_accuracy: 0.8184\n",
            "Epoch 10/20\n",
            "75/75 [==============================] - ETA: 0s - loss: 0.2899 - accuracy: 0.9070\n",
            "Epoch 00010: val_loss improved from 0.55205 to 0.52969, saving model to ./weights/weights_CNN.hdf5\n",
            "75/75 [==============================] - 5s 68ms/step - loss: 0.2899 - accuracy: 0.9070 - val_loss: 0.5297 - val_accuracy: 0.8252\n",
            "Epoch 11/20\n",
            "73/75 [============================>.] - ETA: 0s - loss: 0.2387 - accuracy: 0.9249\n",
            "Epoch 00011: val_loss did not improve from 0.52969\n",
            "75/75 [==============================] - 3s 39ms/step - loss: 0.2402 - accuracy: 0.9242 - val_loss: 0.5478 - val_accuracy: 0.8241\n",
            "Epoch 12/20\n",
            "73/75 [============================>.] - ETA: 0s - loss: 0.1914 - accuracy: 0.9392\n",
            "Epoch 00012: val_loss did not improve from 0.52969\n",
            "75/75 [==============================] - 4s 54ms/step - loss: 0.1913 - accuracy: 0.9392 - val_loss: 0.5708 - val_accuracy: 0.8216\n",
            "Epoch 13/20\n",
            "73/75 [============================>.] - ETA: 0s - loss: 0.1618 - accuracy: 0.9497\n",
            "Epoch 00013: val_loss did not improve from 0.52969\n",
            "75/75 [==============================] - 4s 54ms/step - loss: 0.1621 - accuracy: 0.9496 - val_loss: 0.5731 - val_accuracy: 0.8224\n",
            "Epoch 14/20\n",
            "73/75 [============================>.] - ETA: 0s - loss: 0.1284 - accuracy: 0.9595\n",
            "Epoch 00014: val_loss did not improve from 0.52969\n",
            "75/75 [==============================] - 4s 54ms/step - loss: 0.1276 - accuracy: 0.9599 - val_loss: 0.6288 - val_accuracy: 0.8185\n",
            "Epoch 15/20\n",
            "73/75 [============================>.] - ETA: 0s - loss: 0.0973 - accuracy: 0.9727\n",
            "Epoch 00015: val_loss did not improve from 0.52969\n",
            "75/75 [==============================] - 3s 39ms/step - loss: 0.0973 - accuracy: 0.9725 - val_loss: 0.6451 - val_accuracy: 0.8234\n",
            "Epoch 16/20\n",
            "73/75 [============================>.] - ETA: 0s - loss: 0.0784 - accuracy: 0.9775\n",
            "Epoch 00016: val_loss did not improve from 0.52969\n",
            "75/75 [==============================] - 4s 54ms/step - loss: 0.0785 - accuracy: 0.9775 - val_loss: 0.6556 - val_accuracy: 0.8198\n",
            "Epoch 17/20\n",
            "75/75 [==============================] - ETA: 0s - loss: 0.0687 - accuracy: 0.9815\n",
            "Epoch 00017: val_loss did not improve from 0.52969\n",
            "75/75 [==============================] - 3s 39ms/step - loss: 0.0687 - accuracy: 0.9815 - val_loss: 0.6783 - val_accuracy: 0.8201\n",
            "Epoch 18/20\n",
            "73/75 [============================>.] - ETA: 0s - loss: 0.0555 - accuracy: 0.9858\n",
            "Epoch 00018: val_loss did not improve from 0.52969\n",
            "75/75 [==============================] - 4s 54ms/step - loss: 0.0555 - accuracy: 0.9860 - val_loss: 0.6967 - val_accuracy: 0.8185\n",
            "Epoch 19/20\n",
            "73/75 [============================>.] - ETA: 0s - loss: 0.0476 - accuracy: 0.9885\n",
            "Epoch 00019: val_loss did not improve from 0.52969\n",
            "75/75 [==============================] - 4s 54ms/step - loss: 0.0475 - accuracy: 0.9886 - val_loss: 0.7327 - val_accuracy: 0.8178\n",
            "Epoch 20/20\n",
            "73/75 [============================>.] - ETA: 0s - loss: 0.0439 - accuracy: 0.9889\n",
            "Epoch 00020: val_loss did not improve from 0.52969\n",
            "75/75 [==============================] - 3s 39ms/step - loss: 0.0436 - accuracy: 0.9891 - val_loss: 0.7633 - val_accuracy: 0.8143\n",
            "CNN weights saved in ./weights/weights_CNN.hdf5\n"
          ]
        },
        {
          "output_type": "display_data",
          "data": {
            "image/png": "[encoded data removed]",
            "text/plain": [
              "<Figure size 432x288 with 1 Axes>"
            ]
          },
          "metadata": {
            "needs_background": "light"
          }
        },
        {
          "output_type": "display_data",
          "data": {
            "image/png": "[encoded data removed]",
            "text/plain": [
              "<Figure size 432x288 with 1 Axes>"
            ]
          },
          "metadata": {
            "needs_background": "light"
          }
        }
      ]
    },
    {
      "cell_type": "markdown",
      "metadata": {
        "id": "XK3dbqKloipP"
      },
      "source": [
        "## Make predictions in test set"
      ]
    },
    {
      "cell_type": "code",
      "metadata": {
        "id": "OPLSp4PppXE1",
        "colab": {
          "base_uri": "https://localhost:8080/"
        },
        "outputId": "7a22210f-6ee7-4b34-8bf2-34a2d4279b2a"
      },
      "source": [
        "from tensorflow.keras.models import load_model\n",
        "\n",
        "## LOAD DATA\n",
        "data = np.load('./MNIST_CorrNoise.npz')\n",
        "\n",
        "x_test = data['x_test']\n",
        "y_test = data['y_test']\n",
        "\n",
        "num_cls = len(np.unique(y_test))\n",
        "print('Number of classes: ' + str(num_cls))\n",
        "\n",
        "# RESHAPE and standarize\n",
        "x_test = np.expand_dims(x_test/255,axis=3)\n",
        "\n",
        "print('Shape of x_train: '+str(x_test.shape)+'\\n')\n",
        "## Define model parameters\n",
        "model_name='CNN' # To compare models, you can give them different names\n",
        "pweight='./weights/weights_' + model_name  + '.hdf5'\n",
        "\n",
        "model = load_model(pweight)\n",
        "\n",
        "proba = model.predict(x_test, use_multiprocessing=True)\n",
        "if proba.shape[-1] > 1:\n",
        "    y_pred = proba.argmax(axis=-1)\n",
        "else:\n",
        "    y_pred = (proba > 0.5).astype('int32')\n",
        "\n",
        "Acc_pred = sum(y_test == y_pred)/len(y_test)\n",
        "print('Accuracy in test set is: '+str(Acc_pred))\n"
      ],
      "execution_count": null,
      "outputs": [
        {
          "output_type": "stream",
          "name": "stdout",
          "text": [
            "Number of classes: 10\n",
            "Shape of x_train: (10000, 28, 28, 1)\n",
            "\n",
            "Accuracy in test set is: 0.8182\n"
          ]
        }
      ]
    }
  ]
}